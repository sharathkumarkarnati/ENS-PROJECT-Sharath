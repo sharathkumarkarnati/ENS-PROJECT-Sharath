{
  "cells": [
    {
      "cell_type": "code",
      "source": [
        "!pip install igraph"
      ],
      "metadata": {
        "colab": {
          "base_uri": "https://localhost:8080/"
        },
        "id": "PWB5bf0Z44Em",
        "outputId": "5b5261bd-4e0c-490b-ad5c-7ffaf78a45e4"
      },
      "id": "PWB5bf0Z44Em",
      "execution_count": null,
      "outputs": [
        {
          "output_type": "stream",
          "name": "stdout",
          "text": [
            "Collecting igraph\n",
            "  Downloading igraph-0.11.4-cp39-abi3-manylinux_2_17_x86_64.manylinux2014_x86_64.whl (3.3 MB)\n",
            "\u001b[2K     \u001b[90m━━━━━━━━━━━━━━━━━━━━━━━━━━━━━━━━━━━━━━━━\u001b[0m \u001b[32m3.3/3.3 MB\u001b[0m \u001b[31m43.0 MB/s\u001b[0m eta \u001b[36m0:00:00\u001b[0m\n",
            "\u001b[?25hCollecting texttable>=1.6.2 (from igraph)\n",
            "  Downloading texttable-1.7.0-py2.py3-none-any.whl (10 kB)\n",
            "Installing collected packages: texttable, igraph\n",
            "Successfully installed igraph-0.11.4 texttable-1.7.0\n"
          ]
        }
      ]
    },
    {
      "cell_type": "code",
      "source": [
        "import igraph as ig"
      ],
      "metadata": {
        "id": "NWx__-IU49YO"
      },
      "id": "NWx__-IU49YO",
      "execution_count": null,
      "outputs": []
    },
    {
      "cell_type": "code",
      "execution_count": null,
      "id": "829a427c-1cda-4e25-8568-1c51677b2345",
      "metadata": {
        "colab": {
          "base_uri": "https://localhost:8080/"
        },
        "id": "829a427c-1cda-4e25-8568-1c51677b2345",
        "outputId": "f682c5c2-76b1-4a9d-a4de-8b6cbb5dd0a4"
      },
      "outputs": [
        {
          "output_type": "stream",
          "name": "stdout",
          "text": [
            "Mounted at /content/drive\n"
          ]
        }
      ],
      "source": [
        "from google.colab import drive\n",
        "drive.mount('/content/drive')"
      ]
    },
    {
      "cell_type": "code",
      "execution_count": null,
      "id": "51ad27c2-f8a1-4474-ad47-1fe0305a18d0",
      "metadata": {
        "id": "51ad27c2-f8a1-4474-ad47-1fe0305a18d0"
      },
      "outputs": [],
      "source": [
        "file_path = \"/content/drive/MyDrive/ENS/email-Eu-core.txt\""
      ]
    },
    {
      "cell_type": "code",
      "execution_count": null,
      "id": "c5cb544d-762b-45da-b6db-3ce4b455fc3c",
      "metadata": {
        "id": "c5cb544d-762b-45da-b6db-3ce4b455fc3c"
      },
      "outputs": [],
      "source": [
        "g = ig.Graph.Read_Edgelist(file_path)"
      ]
    },
    {
      "cell_type": "code",
      "source": [
        "g = g.as_undirected()"
      ],
      "metadata": {
        "id": "u_qWlb5Uy570"
      },
      "id": "u_qWlb5Uy570",
      "execution_count": null,
      "outputs": []
    },
    {
      "cell_type": "code",
      "source": [
        "# Apply Louvain algorithm for community detection\n",
        "communities = g.community_multilevel()"
      ],
      "metadata": {
        "id": "dBCYx6K5y5-8"
      },
      "id": "dBCYx6K5y5-8",
      "execution_count": null,
      "outputs": []
    },
    {
      "cell_type": "code",
      "source": [
        "# Print the communities\n",
        "for i, community in enumerate(communities):\n",
        "    print(f\"Community {i+1}: {community}\")\n"
      ],
      "metadata": {
        "colab": {
          "base_uri": "https://localhost:8080/"
        },
        "id": "eReUkgQjy6Bz",
        "outputId": "1d108dd2-9bae-41f7-ee5c-740c68ef7305"
      },
      "id": "eReUkgQjy6Bz",
      "execution_count": null,
      "outputs": [
        {
          "output_type": "stream",
          "name": "stdout",
          "text": [
            "Community 1: [0, 1, 10, 16, 17, 18, 20, 21, 22, 42, 49, 50, 62, 66, 67, 68, 69, 70, 71, 72, 73, 74, 77, 78, 80, 81, 82, 83, 84, 85, 87, 90, 91, 92, 105, 106, 107, 108, 109, 110, 111, 112, 117, 118, 120, 121, 127, 142, 144, 145, 146, 147, 152, 153, 154, 155, 160, 162, 163, 166, 173, 177, 184, 186, 187, 188, 189, 190, 212, 215, 217, 218, 219, 220, 221, 222, 223, 224, 225, 226, 227, 228, 230, 248, 249, 253, 254, 255, 256, 258, 259, 260, 268, 279, 282, 287, 288, 297, 298, 299, 300, 306, 307, 309, 310, 311, 312, 313, 314, 315, 316, 317, 325, 326, 327, 328, 329, 331, 341, 355, 356, 357, 363, 364, 366, 372, 375, 400, 405, 410, 416, 418, 420, 422, 424, 431, 432, 433, 434, 435, 453, 454, 459, 460, 462, 463, 465, 467, 469, 471, 472, 473, 474, 475, 476, 477, 478, 480, 490, 492, 494, 495, 507, 508, 509, 512, 513, 514, 518, 519, 524, 533, 536, 537, 539, 540, 541, 546, 549, 550, 551, 559, 560, 561, 577, 578, 582, 589, 591, 594, 596, 597, 601, 606, 607, 612, 613, 614, 615, 616, 626, 627, 629, 641, 642, 643, 647, 650, 651, 652, 654, 663, 667, 669, 671, 673, 678, 679, 690, 693, 695, 696, 701, 702, 704, 710, 713, 715, 726, 727, 728, 736, 739, 742, 745, 747, 748, 752, 756, 758, 759, 764, 769, 771, 773, 775, 778, 779, 780, 783, 786, 787, 792, 793, 796, 799, 800, 818, 821, 828, 831, 834, 837, 853, 855, 857, 858, 872, 877, 882, 885, 887, 889, 890, 894, 896, 905, 906, 911, 920, 932, 934, 941, 944, 945, 946, 952, 954, 958, 962, 966, 968, 969, 979, 984, 989, 999, 1002, 1003]\n",
            "Community 2: [2, 3, 4, 5, 6, 54, 55, 56, 57, 58, 59, 63, 88, 89, 102, 126, 131, 132, 137, 138, 158, 159, 174, 175, 192, 193, 194, 195, 208, 209, 210, 211, 233, 234, 235, 236, 237, 238, 239, 240, 241, 242, 243, 244, 252, 271, 281, 285, 286, 301, 302, 303, 304, 305, 319, 369, 373, 408, 411, 412, 481, 489, 516, 517, 520, 528, 532, 552, 564, 571, 586, 587, 599, 604, 610, 619, 622, 625, 630, 631, 634, 635, 636, 637, 638, 639, 644, 646, 665, 683, 685, 698, 716, 717, 718, 737, 738, 743, 750, 755, 762, 763, 774, 784, 788, 803, 806, 807, 809, 810, 812, 815, 826, 832, 842, 845, 849, 854, 859, 863, 864, 865, 866, 876, 879, 880, 884, 886, 888, 898, 899, 901, 902, 921, 924, 926, 927, 928, 930, 931, 949, 963, 977, 982, 988, 990, 991, 993, 994, 1001, 1004]\n",
            "Community 3: [7, 8, 9, 11, 12, 19, 43, 44, 141, 161, 213, 246, 247, 264, 265, 266, 267, 293, 324, 332, 358, 359, 360, 362, 365, 374, 406, 407, 421, 430, 441, 451, 452, 466, 487, 488, 496, 498, 499, 500, 501, 502, 503, 504, 505, 506, 510, 525, 529, 530, 555, 558, 565, 566, 569, 570, 573, 602, 608, 649, 661, 666, 672, 674, 699, 700, 707, 720, 729, 740, 754, 765, 804, 805, 823, 827, 830, 833, 844, 856, 893, 912, 913, 922, 950, 951, 956, 957, 967, 971, 972, 973, 975, 996]\n",
            "Community 4: [13, 23, 24, 25, 26, 27, 28, 29, 30, 31, 32, 33, 34, 35, 36, 37, 38, 39, 40, 47, 48, 75, 76, 96, 113, 114, 115, 116, 119, 123, 135, 136, 151, 165, 169, 170, 171, 229, 245, 251, 261, 263, 318, 330, 333, 336, 337, 338, 339, 361, 367, 370, 409, 417, 423, 427, 436, 437, 438, 439, 442, 443, 444, 455, 470, 485, 491, 497, 527, 531, 545, 547, 548, 588, 590, 609, 624, 655, 686, 721, 722, 724, 725, 753, 757, 767, 785, 795, 811, 816, 847, 860, 875, 878, 881, 883, 891, 892, 895, 897, 900, 914, 915, 919, 925, 953, 964, 976, 978, 980, 981, 983, 986, 987, 997]\n",
            "Community 5: [14, 41, 51, 53, 64, 65, 79, 86, 93, 94, 95, 128, 129, 133, 143, 167, 168, 172, 176, 183, 196, 197, 198, 199, 200, 201, 202, 203, 204, 205, 206, 207, 232, 257, 270, 275, 276, 280, 289, 290, 291, 292, 294, 399, 401, 403, 413, 419, 425, 426, 440, 445, 450, 456, 457, 458, 464, 482, 483, 484, 486, 493, 515, 522, 523, 526, 534, 542, 543, 544, 556, 557, 562, 563, 567, 568, 572, 574, 576, 581, 584, 585, 593, 600, 611, 620, 623, 664, 677, 688, 689, 694, 705, 706, 712, 714, 749, 751, 776, 789, 790, 791, 801, 802, 813, 817, 820, 822, 829, 835, 836, 840, 843, 848, 850, 870, 873, 874, 908, 909, 910, 917, 918, 936, 938, 939, 940, 942, 955, 965, 970, 974, 992, 995, 998, 1000]\n",
            "Community 6: [15, 45, 46, 97, 98, 99, 100, 101, 124, 125, 139, 140, 164, 185, 216, 269, 272, 273, 274, 322, 323, 334, 335, 353, 354, 371, 404, 428, 429, 446, 447, 448, 461, 579, 592, 617, 618, 640, 657, 662, 676, 687, 708, 709, 735, 760, 768, 770, 794, 819, 838, 929, 933, 935, 937]\n",
            "Community 7: [52, 60, 61, 103, 104, 122, 130, 148, 149, 150, 156, 157, 178, 179, 180, 181, 182, 191, 214, 231, 250, 262, 277, 278, 283, 284, 295, 296, 308, 320, 321, 342, 343, 344, 345, 346, 347, 348, 349, 350, 351, 352, 368, 376, 377, 378, 379, 380, 381, 382, 383, 384, 385, 386, 387, 388, 389, 390, 391, 392, 393, 394, 395, 396, 397, 398, 402, 414, 415, 449, 468, 479, 511, 575, 595, 603, 605, 621, 628, 632, 645, 656, 659, 668, 680, 681, 682, 692, 697, 719, 730, 734, 741, 761, 781, 782, 797, 814, 824, 839, 841, 846, 851, 852, 861, 868, 869, 871, 903, 904, 907, 916, 943, 947, 948, 959, 960, 961, 985]\n",
            "Community 8: [134, 340, 521, 535, 538, 553, 554, 583, 598, 723, 733, 766, 777, 825, 862, 867, 923]\n",
            "Community 9: [580]\n",
            "Community 10: [633]\n",
            "Community 11: [648]\n",
            "Community 12: [653]\n",
            "Community 13: [658]\n",
            "Community 14: [660]\n",
            "Community 15: [670]\n",
            "Community 16: [675]\n",
            "Community 17: [684]\n",
            "Community 18: [691]\n",
            "Community 19: [703]\n",
            "Community 20: [711]\n",
            "Community 21: [731]\n",
            "Community 22: [732]\n",
            "Community 23: [744]\n",
            "Community 24: [746]\n",
            "Community 25: [772]\n",
            "Community 26: [798]\n",
            "Community 27: [808]\n"
          ]
        }
      ]
    },
    {
      "cell_type": "code",
      "source": [
        "# Visualize the graph with all edges colored red\n",
        "visual_style_congress = {}\n",
        "visual_style_congress[\"vertex_size\"] = 20\n",
        "visual_style_congress[\"layout\"] = g.layout_fruchterman_reingold()\n",
        "visual_style_congress[\"edge_color\"] = \"red\"\n",
        "\n",
        "# Plot the graph with red edges\n",
        "ig.plot(g, **visual_style_congress)"
      ],
      "metadata": {
        "id": "ua1R0BQf3egl",
        "colab": {
          "base_uri": "https://localhost:8080/",
          "height": 321
        },
        "outputId": "0851264d-35d6-47db-8ef7-445e943add78"
      },
      "id": "ua1R0BQf3egl",
      "execution_count": null,
      "outputs": [
        {
          "output_type": "error",
          "ename": "AttributeError",
          "evalue": "Plotting not available; please install pycairo or cairocffi",
          "traceback": [
            "\u001b[0;31m---------------------------------------------------------------------------\u001b[0m",
            "\u001b[0;31mAttributeError\u001b[0m                            Traceback (most recent call last)",
            "\u001b[0;32m<ipython-input-16-dd6694ac061c>\u001b[0m in \u001b[0;36m<cell line: 8>\u001b[0;34m()\u001b[0m\n\u001b[1;32m      6\u001b[0m \u001b[0;34m\u001b[0m\u001b[0m\n\u001b[1;32m      7\u001b[0m \u001b[0;31m# Plot the graph with red edges\u001b[0m\u001b[0;34m\u001b[0m\u001b[0;34m\u001b[0m\u001b[0m\n\u001b[0;32m----> 8\u001b[0;31m \u001b[0mig\u001b[0m\u001b[0;34m.\u001b[0m\u001b[0mplot\u001b[0m\u001b[0;34m(\u001b[0m\u001b[0mg\u001b[0m\u001b[0;34m,\u001b[0m \u001b[0;34m**\u001b[0m\u001b[0mvisual_style_congress\u001b[0m\u001b[0;34m)\u001b[0m\u001b[0;34m\u001b[0m\u001b[0;34m\u001b[0m\u001b[0m\n\u001b[0m",
            "\u001b[0;32m/usr/local/lib/python3.10/dist-packages/igraph/drawing/__init__.py\u001b[0m in \u001b[0;36mplot\u001b[0;34m(obj, target, bbox, *args, **kwds)\u001b[0m\n\u001b[1;32m    297\u001b[0m     \u001b[0mbackground\u001b[0m \u001b[0;34m=\u001b[0m \u001b[0mkwds\u001b[0m\u001b[0;34m.\u001b[0m\u001b[0mpop\u001b[0m\u001b[0;34m(\u001b[0m\u001b[0;34m\"background\"\u001b[0m\u001b[0;34m,\u001b[0m \u001b[0;34m\"white\"\u001b[0m\u001b[0;34m)\u001b[0m\u001b[0;34m\u001b[0m\u001b[0;34m\u001b[0m\u001b[0m\n\u001b[1;32m    298\u001b[0m     \u001b[0mmargin\u001b[0m \u001b[0;34m=\u001b[0m \u001b[0mfloat\u001b[0m\u001b[0;34m(\u001b[0m\u001b[0mkwds\u001b[0m\u001b[0;34m.\u001b[0m\u001b[0mpop\u001b[0m\u001b[0;34m(\u001b[0m\u001b[0;34m\"margin\"\u001b[0m\u001b[0;34m,\u001b[0m \u001b[0;36m20\u001b[0m\u001b[0;34m)\u001b[0m\u001b[0;34m)\u001b[0m\u001b[0;34m\u001b[0m\u001b[0;34m\u001b[0m\u001b[0m\n\u001b[0;32m--> 299\u001b[0;31m     result = CairoPlot(\n\u001b[0m\u001b[1;32m    300\u001b[0m         \u001b[0mtarget\u001b[0m\u001b[0;34m=\u001b[0m\u001b[0mtarget\u001b[0m\u001b[0;34m,\u001b[0m\u001b[0;34m\u001b[0m\u001b[0;34m\u001b[0m\u001b[0m\n\u001b[1;32m    301\u001b[0m         \u001b[0mbbox\u001b[0m\u001b[0;34m=\u001b[0m\u001b[0mbbox\u001b[0m\u001b[0;34m,\u001b[0m\u001b[0;34m\u001b[0m\u001b[0;34m\u001b[0m\u001b[0m\n",
            "\u001b[0;32m/usr/local/lib/python3.10/dist-packages/igraph/drawing/cairo/plot.py\u001b[0m in \u001b[0;36m__init__\u001b[0;34m(self, target, bbox, palette, background)\u001b[0m\n\u001b[1;32m    146\u001b[0m         \u001b[0;32mif\u001b[0m \u001b[0mtarget\u001b[0m \u001b[0;32mis\u001b[0m \u001b[0;32mNone\u001b[0m\u001b[0;34m:\u001b[0m\u001b[0;34m\u001b[0m\u001b[0;34m\u001b[0m\u001b[0m\n\u001b[1;32m    147\u001b[0m             \u001b[0mself\u001b[0m\u001b[0;34m.\u001b[0m\u001b[0m_need_tmpfile\u001b[0m \u001b[0;34m=\u001b[0m \u001b[0;32mTrue\u001b[0m\u001b[0;34m\u001b[0m\u001b[0;34m\u001b[0m\u001b[0m\n\u001b[0;32m--> 148\u001b[0;31m             self._surface = cairo.ImageSurface(\n\u001b[0m\u001b[1;32m    149\u001b[0m                 \u001b[0mcairo\u001b[0m\u001b[0;34m.\u001b[0m\u001b[0mFORMAT_ARGB32\u001b[0m\u001b[0;34m,\u001b[0m \u001b[0mint\u001b[0m\u001b[0;34m(\u001b[0m\u001b[0mself\u001b[0m\u001b[0;34m.\u001b[0m\u001b[0mbbox\u001b[0m\u001b[0;34m.\u001b[0m\u001b[0mwidth\u001b[0m\u001b[0;34m)\u001b[0m\u001b[0;34m,\u001b[0m \u001b[0mint\u001b[0m\u001b[0;34m(\u001b[0m\u001b[0mself\u001b[0m\u001b[0;34m.\u001b[0m\u001b[0mbbox\u001b[0m\u001b[0;34m.\u001b[0m\u001b[0mheight\u001b[0m\u001b[0;34m)\u001b[0m\u001b[0;34m\u001b[0m\u001b[0;34m\u001b[0m\u001b[0m\n\u001b[1;32m    150\u001b[0m             )\n",
            "\u001b[0;32m/usr/local/lib/python3.10/dist-packages/igraph/drawing/utils.py\u001b[0m in \u001b[0;36m__getattr__\u001b[0;34m(self, _)\u001b[0m\n\u001b[1;32m    426\u001b[0m \u001b[0;34m\u001b[0m\u001b[0m\n\u001b[1;32m    427\u001b[0m     \u001b[0;32mdef\u001b[0m \u001b[0m__getattr__\u001b[0m\u001b[0;34m(\u001b[0m\u001b[0mself\u001b[0m\u001b[0;34m,\u001b[0m \u001b[0m_\u001b[0m\u001b[0;34m)\u001b[0m\u001b[0;34m:\u001b[0m\u001b[0;34m\u001b[0m\u001b[0;34m\u001b[0m\u001b[0m\n\u001b[0;32m--> 428\u001b[0;31m         \u001b[0;32mraise\u001b[0m \u001b[0mAttributeError\u001b[0m\u001b[0;34m(\u001b[0m\u001b[0mself\u001b[0m\u001b[0;34m.\u001b[0m\u001b[0m_message\u001b[0m\u001b[0;34m)\u001b[0m\u001b[0;34m\u001b[0m\u001b[0;34m\u001b[0m\u001b[0m\n\u001b[0m\u001b[1;32m    429\u001b[0m \u001b[0;34m\u001b[0m\u001b[0m\n\u001b[1;32m    430\u001b[0m     \u001b[0;32mdef\u001b[0m \u001b[0m__call__\u001b[0m\u001b[0;34m(\u001b[0m\u001b[0mself\u001b[0m\u001b[0;34m,\u001b[0m \u001b[0m_\u001b[0m\u001b[0;34m)\u001b[0m\u001b[0;34m:\u001b[0m\u001b[0;34m\u001b[0m\u001b[0;34m\u001b[0m\u001b[0m\n",
            "\u001b[0;31mAttributeError\u001b[0m: Plotting not available; please install pycairo or cairocffi"
          ]
        }
      ]
    },
    {
      "cell_type": "code",
      "source": [
        "!pip install cairocffi"
      ],
      "metadata": {
        "id": "aSvYr-XY3eoI",
        "colab": {
          "base_uri": "https://localhost:8080/"
        },
        "outputId": "acc568bc-3c4d-4c65-f699-24b669383f56"
      },
      "id": "aSvYr-XY3eoI",
      "execution_count": null,
      "outputs": [
        {
          "output_type": "stream",
          "name": "stdout",
          "text": [
            "Collecting cairocffi\n",
            "  Downloading cairocffi-1.7.0-py3-none-any.whl (75 kB)\n",
            "\u001b[?25l     \u001b[90m━━━━━━━━━━━━━━━━━━━━━━━━━━━━━━━━━━━━━━━━\u001b[0m \u001b[32m0.0/75.4 kB\u001b[0m \u001b[31m?\u001b[0m eta \u001b[36m-:--:--\u001b[0m\r\u001b[2K     \u001b[90m━━━━━━━━━━━━━━━━━━━━━━━━━━━━━━━━━━━━━━━━\u001b[0m \u001b[32m75.4/75.4 kB\u001b[0m \u001b[31m2.2 MB/s\u001b[0m eta \u001b[36m0:00:00\u001b[0m\n",
            "\u001b[?25hRequirement already satisfied: cffi>=1.1.0 in /usr/local/lib/python3.10/dist-packages (from cairocffi) (1.16.0)\n",
            "Requirement already satisfied: pycparser in /usr/local/lib/python3.10/dist-packages (from cffi>=1.1.0->cairocffi) (2.22)\n",
            "Installing collected packages: cairocffi\n",
            "Successfully installed cairocffi-1.7.0\n"
          ]
        }
      ]
    },
    {
      "cell_type": "code",
      "source": [
        "!pip install pycairo"
      ],
      "metadata": {
        "id": "iUj-aNr23eqf",
        "colab": {
          "base_uri": "https://localhost:8080/"
        },
        "outputId": "a8a109a0-4d31-4e64-db01-fe6c02798fcc"
      },
      "id": "iUj-aNr23eqf",
      "execution_count": null,
      "outputs": [
        {
          "output_type": "stream",
          "name": "stdout",
          "text": [
            "Collecting pycairo\n",
            "  Downloading pycairo-1.26.0.tar.gz (346 kB)\n",
            "\u001b[2K     \u001b[90m━━━━━━━━━━━━━━━━━━━━━━━━━━━━━━━━━━━━━━━━\u001b[0m \u001b[32m346.9/346.9 kB\u001b[0m \u001b[31m4.8 MB/s\u001b[0m eta \u001b[36m0:00:00\u001b[0m\n",
            "\u001b[?25h  Installing build dependencies ... \u001b[?25l\u001b[?25hdone\n",
            "  Getting requirements to build wheel ... \u001b[?25l\u001b[?25hdone\n",
            "  Installing backend dependencies ... \u001b[?25l\u001b[?25hdone\n",
            "  Preparing metadata (pyproject.toml) ... \u001b[?25l\u001b[?25hdone\n",
            "Building wheels for collected packages: pycairo\n",
            "  \u001b[1;31merror\u001b[0m: \u001b[1msubprocess-exited-with-error\u001b[0m\n",
            "  \n",
            "  \u001b[31m×\u001b[0m \u001b[32mBuilding wheel for pycairo \u001b[0m\u001b[1;32m(\u001b[0m\u001b[32mpyproject.toml\u001b[0m\u001b[1;32m)\u001b[0m did not run successfully.\n",
            "  \u001b[31m│\u001b[0m exit code: \u001b[1;36m1\u001b[0m\n",
            "  \u001b[31m╰─>\u001b[0m See above for output.\n",
            "  \n",
            "  \u001b[1;35mnote\u001b[0m: This error originates from a subprocess, and is likely not a problem with pip.\n",
            "  Building wheel for pycairo (pyproject.toml) ... \u001b[?25l\u001b[?25herror\n",
            "\u001b[31m  ERROR: Failed building wheel for pycairo\u001b[0m\u001b[31m\n",
            "\u001b[0mFailed to build pycairo\n",
            "\u001b[31mERROR: Could not build wheels for pycairo, which is required to install pyproject.toml-based projects\u001b[0m\u001b[31m\n",
            "\u001b[0m"
          ]
        }
      ]
    }
  ],
  "metadata": {
    "kernelspec": {
      "display_name": "Python 3",
      "name": "python3"
    },
    "language_info": {
      "codemirror_mode": {
        "name": "ipython",
        "version": 3
      },
      "file_extension": ".py",
      "mimetype": "text/x-python",
      "name": "python",
      "nbconvert_exporter": "python",
      "pygments_lexer": "ipython3",
      "version": "3.11.5"
    },
    "colab": {
      "provenance": [],
      "gpuType": "T4"
    },
    "accelerator": "GPU"
  },
  "nbformat": 4,
  "nbformat_minor": 5
}